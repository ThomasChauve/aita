{
 "cells": [
  {
   "cell_type": "markdown",
   "metadata": {},
   "source": [
    "This documention is made from a jupyter notebook available in 'Exemple/Documentation.ipynb'\n",
    "\n",
    "# Load data from G50 analyser\n",
    "Loading data from G50 analyser after you convert binary file into ASCII file with 5 columuns. The ‘micro_test.bmp’ file should be a black and white image with the grains boundaries in white."
   ]
  },
  {
   "cell_type": "code",
   "execution_count": 1,
   "metadata": {},
   "outputs": [
    {
     "name": "stdout",
     "output_type": "stream",
     "text": [
      "Sucessfull aita build !\n"
     ]
    }
   ],
   "source": [
    "import AITAToolbox.loadData_aita as lda\n",
    "import matplotlib.pyplot as plt\n",
    "%matplotlib widget\n",
    "\n",
    "data=lda.aita5col('orientation_test.dat','micro_test.bmp')"
   ]
  },
  {
   "cell_type": "markdown",
   "metadata": {},
   "source": [
    "# Basic treatment\n",
    "## Filter the data\n",
    "This function filter the bad indexed value. Using G50 analyser a quelity factor is given between 0 and 100. Usualy using data with a quality factor higher than 75 is a good option."
   ]
  },
  {
   "cell_type": "code",
   "execution_count": 2,
   "metadata": {},
   "outputs": [],
   "source": [
    "data.filter(75)"
   ]
  },
  {
   "cell_type": "markdown",
   "metadata": {},
   "source": [
    "## Croping\n",
    "It can be usefull to select a sub area. Within a juptyter notebook use interactive_crop(). In ipython use just crop function."
   ]
  },
  {
   "cell_type": "code",
   "execution_count": 3,
   "metadata": {},
   "outputs": [
    {
     "name": "stdout",
     "output_type": "stream",
     "text": [
      "1. click and drag the mouse on the figure to selecte the area\n",
      "2. you can draw the rectangle using the button \"Draw area\"\n",
      "3. if you are unhappy with the selection restart to 1.\n",
      "4. if you are happy with the selection click on \"Export crop\" (only the last rectangle is taken into account)\n"
     ]
    },
    {
     "data": {
      "application/vnd.jupyter.widget-view+json": {
       "model_id": "02955f7a1f1f432cadc1b0b0a82b06c9",
       "version_major": 2,
       "version_minor": 0
      },
      "text/plain": [
       "Canvas(toolbar=Toolbar(toolitems=[('Home', 'Reset original view', 'home', 'home'), ('Back', 'Back to previous …"
      ]
     },
     "metadata": {},
     "output_type": "display_data"
    },
    {
     "data": {
      "application/vnd.jupyter.widget-view+json": {
       "model_id": "da5cd534ab5b419290515f009dab192e",
       "version_major": 2,
       "version_minor": 0
      },
      "text/plain": [
       "Button(description='Draw area', style=ButtonStyle())"
      ]
     },
     "metadata": {},
     "output_type": "display_data"
    },
    {
     "data": {
      "application/vnd.jupyter.widget-view+json": {
       "model_id": "11392a3aa921466a97dd9ffb4103fe16",
       "version_major": 2,
       "version_minor": 0
      },
      "text/plain": [
       "Button(description='Export crop', style=ButtonStyle())"
      ]
     },
     "metadata": {},
     "output_type": "display_data"
    }
   ],
   "source": [
    "out=data.interactive_crop()"
   ]
  },
  {
   "cell_type": "markdown",
   "metadata": {},
   "source": [
    "Once you did 'Export crop' the position of the rectangle can be find in :\n",
    "```python\n",
    "out.pos=np.array([xmin,xmax,ymin,ymax])\n",
    "```\n"
   ]
  },
  {
   "cell_type": "markdown",
   "metadata": {},
   "source": [
    "# Colormap\n",
    "Plotting the colormap with the grains boundaries"
   ]
  },
  {
   "cell_type": "code",
   "execution_count": 4,
   "metadata": {},
   "outputs": [
    {
     "data": {
      "application/vnd.jupyter.widget-view+json": {
       "model_id": "7ae5ced8d5b4404d86e77cc173991320",
       "version_major": 2,
       "version_minor": 0
      },
      "text/plain": [
       "Canvas(toolbar=Toolbar(toolitems=[('Home', 'Reset original view', 'home', 'home'), ('Back', 'Back to previous …"
      ]
     },
     "metadata": {},
     "output_type": "display_data"
    },
    {
     "data": {
      "text/plain": [
       "Text(0.5, 1.0, 'Colormap')"
      ]
     },
     "execution_count": 4,
     "metadata": {},
     "output_type": "execute_result"
    }
   ],
   "source": [
    "plt.figure(figsize=(4,4))\n",
    "data.plot()\n",
    "data.micro.plotBoundary(dilatation=4)\n",
    "plt.title('Colormap')"
   ]
  },
  {
   "cell_type": "markdown",
   "metadata": {},
   "source": [
    "The associated colorwheel :"
   ]
  },
  {
   "cell_type": "code",
   "execution_count": 5,
   "metadata": {},
   "outputs": [
    {
     "data": {
      "application/vnd.jupyter.widget-view+json": {
       "model_id": "ba5bceb6feb54ae5be7de20637777b2d",
       "version_major": 2,
       "version_minor": 0
      },
      "text/plain": [
       "Canvas(toolbar=Toolbar(toolitems=[('Home', 'Reset original view', 'home', 'home'), ('Back', 'Back to previous …"
      ]
     },
     "metadata": {},
     "output_type": "display_data"
    },
    {
     "data": {
      "text/plain": [
       "Text(0.5, 1.0, 'LUT')"
      ]
     },
     "execution_count": 5,
     "metadata": {},
     "output_type": "execute_result"
    }
   ],
   "source": [
    "plt.figure(figsize=(2,2))\n",
    "plt.imshow(lda.aita.lut())\n",
    "plt.axis('off')\n",
    "plt.title('LUT')"
   ]
  },
  {
   "cell_type": "markdown",
   "metadata": {},
   "source": [
    "# Misorientation profile"
   ]
  },
  {
   "cell_type": "code",
   "execution_count": 6,
   "metadata": {},
   "outputs": [
    {
     "data": {
      "application/vnd.jupyter.widget-view+json": {
       "model_id": "5ce3166b5c53429aa96e7a3ef555c128",
       "version_major": 2,
       "version_minor": 0
      },
      "text/plain": [
       "Canvas(toolbar=Toolbar(toolitems=[('Home', 'Reset original view', 'home', 'home'), ('Back', 'Back to previous …"
      ]
     },
     "metadata": {},
     "output_type": "display_data"
    },
    {
     "data": {
      "application/vnd.jupyter.widget-view+json": {
       "model_id": "b94130dd17114a15bc51f074306b3a7a",
       "version_major": 2,
       "version_minor": 0
      },
      "text/plain": [
       "Button(description='Show line', style=ButtonStyle())"
      ]
     },
     "metadata": {},
     "output_type": "display_data"
    },
    {
     "data": {
      "application/vnd.jupyter.widget-view+json": {
       "model_id": "1777e754ea5340988b011aa4bd11aa9a",
       "version_major": 2,
       "version_minor": 0
      },
      "text/plain": [
       "Button(description='Extract profile', style=ButtonStyle())"
      ]
     },
     "metadata": {},
     "output_type": "display_data"
    }
   ],
   "source": [
    "res=data.interactive_misorientation_profile()"
   ]
  },
  {
   "cell_type": "code",
   "execution_count": 7,
   "metadata": {},
   "outputs": [
    {
     "data": {
      "application/vnd.jupyter.widget-view+json": {
       "model_id": "7729a2a75213419995c7062e0fa548ea",
       "version_major": 2,
       "version_minor": 0
      },
      "text/plain": [
       "Canvas(toolbar=Toolbar(toolitems=[('Home', 'Reset original view', 'home', 'home'), ('Back', 'Back to previous …"
      ]
     },
     "metadata": {},
     "output_type": "display_data"
    },
    {
     "data": {
      "text/plain": [
       "Text(0, 0.5, 'Angle')"
      ]
     },
     "execution_count": 7,
     "metadata": {},
     "output_type": "execute_result"
    }
   ],
   "source": [
    "plt.figure()\n",
    "plt.plot(res.x,res.mis2o,'b-',label='mis2o')\n",
    "plt.plot(res.x,res.mis2p,'k-',label='mis2p')\n",
    "plt.grid()\n",
    "plt.legend()\n",
    "plt.xlabel('Distance')\n",
    "plt.ylabel('Angle')"
   ]
  },
  {
   "cell_type": "markdown",
   "metadata": {},
   "source": [
    "# Grelon function\n",
    "The grelon function compute the angle between the c-axis at each pixel and the unit radial vector from the center. The center is given by the user.\n",
    "\n",
    "Using the interactive_grelon function you can click as many time as you want. When you push export, it will compute the angle using the last click (input)"
   ]
  },
  {
   "cell_type": "code",
   "execution_count": 10,
   "metadata": {},
   "outputs": [
    {
     "data": {
      "application/vnd.jupyter.widget-view+json": {
       "model_id": "df32f8e7cf2347cba47a7a4a7ebe37ed",
       "version_major": 2,
       "version_minor": 0
      },
      "text/plain": [
       "Canvas(toolbar=Toolbar(toolitems=[('Home', 'Reset original view', 'home', 'home'), ('Back', 'Back to previous …"
      ]
     },
     "metadata": {},
     "output_type": "display_data"
    },
    {
     "data": {
      "application/vnd.jupyter.widget-view+json": {
       "model_id": "27c4326f51d142acbbc9e717f8cbc246",
       "version_major": 2,
       "version_minor": 0
      },
      "text/plain": [
       "Button(description='Export', style=ButtonStyle())"
      ]
     },
     "metadata": {},
     "output_type": "display_data"
    }
   ],
   "source": [
    "grelon=data.interactive_grelon()"
   ]
  },
  {
   "cell_type": "markdown",
   "metadata": {},
   "source": []
  },
  {
   "cell_type": "code",
   "execution_count": 19,
   "metadata": {},
   "outputs": [
    {
     "data": {
      "application/vnd.jupyter.widget-view+json": {
       "model_id": "ccd5ad849eea4bc18b7f01620577c791",
       "version_major": 2,
       "version_minor": 0
      },
      "text/plain": [
       "Canvas(toolbar=Toolbar(toolitems=[('Home', 'Reset original view', 'home', 'home'), ('Back', 'Back to previous …"
      ]
     },
     "metadata": {},
     "output_type": "display_data"
    },
    {
     "data": {
      "text/plain": [
       "[<matplotlib.lines.Line2D at 0x7f5b1a8d9a30>]"
      ]
     },
     "execution_count": 19,
     "metadata": {},
     "output_type": "execute_result"
    }
   ],
   "source": [
    "#You can plot the angle map in degree using.\n",
    "plt.figure()\n",
    "grelon.map.plot()\n",
    "#You can find the center use for the computation\n",
    "plt.plot(grelon.center[0],grelon.center[1],'ks')"
   ]
  },
  {
   "cell_type": "code",
   "execution_count": null,
   "metadata": {},
   "outputs": [],
   "source": []
  },
  {
   "cell_type": "code",
   "execution_count": 15,
   "metadata": {},
   "outputs": [
    {
     "data": {
      "text/plain": [
       "False"
      ]
     },
     "execution_count": 15,
     "metadata": {},
     "output_type": "execute_result"
    }
   ],
   "source": [
    "(grelon.center==0).all()"
   ]
  },
  {
   "cell_type": "code",
   "execution_count": 20,
   "metadata": {},
   "outputs": [
    {
     "data": {
      "text/plain": [
       "True"
      ]
     },
     "execution_count": 20,
     "metadata": {},
     "output_type": "execute_result"
    }
   ],
   "source": [
    "import numpy as np\n",
    "toto=np.array([0,0])\n",
    "(toto==0).all()"
   ]
  },
  {
   "cell_type": "markdown",
   "metadata": {},
   "source": [
    "# Pole figure\n",
    "There is various option to plot the pole figure here we focus on some of them but to see all of them refer to the documentation of plotpdf function.\n",
    "\n",
    "The color coding of the pole figure is obtain using a Kernel Density Estimation (KDE). This KDE has to be manipulating carrefully. If you want to have a basic idea of what is a KDE you can look at https://mathisonian.github.io/kde/.\n",
    "\n",
    "## Representation\n",
    "### Pole figure all sample\n",
    "Here some of the option are shown as contour plot, and with or without circle for specific angle.\n",
    "\n",
    "Be aware that to reduce the computation time we only used by default 10000 orientations selected randomly. You can modify this using 'nbp' value. If you set nbp to 0 it use all the data."
   ]
  },
  {
   "cell_type": "code",
   "execution_count": null,
   "metadata": {},
   "outputs": [],
   "source": []
  },
  {
   "cell_type": "code",
   "execution_count": null,
   "metadata": {},
   "outputs": [],
   "source": []
  },
  {
   "cell_type": "code",
   "execution_count": 6,
   "metadata": {},
   "outputs": [
    {
     "data": {
      "application/vnd.jupyter.widget-view+json": {
       "model_id": "7305a0895ebc41bb91599103213329f6",
       "version_major": 2,
       "version_minor": 0
      },
      "text/plain": [
       "Canvas(toolbar=Toolbar(toolitems=[('Home', 'Reset original view', 'home', 'home'), ('Back', 'Back to previous …"
      ]
     },
     "metadata": {},
     "output_type": "display_data"
    },
    {
     "name": "stderr",
     "output_type": "stream",
     "text": [
      "/home/chauvet/Documents/NewPC/GitPythonTools/aita/AITAToolbox/aita.py:525: RuntimeWarning: invalid value encountered in remainder\n",
      "  azi=np.mod(self.phi1.field.reshape((-1,1))-math.pi/2,2*math.pi)\n",
      "/home/chauvet/Documents/NewPC/GitPythonTools/aita/AITAToolbox/aita.py:525: RuntimeWarning: invalid value encountered in remainder\n",
      "  azi=np.mod(self.phi1.field.reshape((-1,1))-math.pi/2,2*math.pi)\n",
      "/home/chauvet/Documents/NewPC/GitPythonTools/aita/AITAToolbox/aita.py:525: RuntimeWarning: invalid value encountered in remainder\n",
      "  azi=np.mod(self.phi1.field.reshape((-1,1))-math.pi/2,2*math.pi)\n",
      "/home/chauvet/Documents/NewPC/GitPythonTools/aita/AITAToolbox/aita.py:525: RuntimeWarning: invalid value encountered in remainder\n",
      "  azi=np.mod(self.phi1.field.reshape((-1,1))-math.pi/2,2*math.pi)\n"
     ]
    },
    {
     "data": {
      "text/plain": [
       "array([0.3956952 , 0.34523445, 0.2590703 ], dtype=float32)"
      ]
     },
     "execution_count": 6,
     "metadata": {},
     "output_type": "execute_result"
    }
   ],
   "source": [
    "plt.figure(figsize=(7,7),dpi=160)\n",
    "plt.subplot(2,2,1)\n",
    "data.plotpdf(contourf=True,angle=0)\n",
    "plt.subplot(2,2,2)\n",
    "data.plotpdf(contourf=True)\n",
    "plt.subplot(2,2,3)\n",
    "data.plotpdf(angle=0)\n",
    "plt.subplot(2,2,4)\n",
    "data.plotpdf()"
   ]
  },
  {
   "cell_type": "markdown",
   "metadata": {},
   "source": [
    "## Kernel Density Estimation\n",
    "If you want to have an idea of a basic KDE in one dimention refer to https://mathisonian.github.io/kde/\n",
    "\n",
    "Here there is some specificities du to the fact that we are computing KDE on a sphere. To do so we are using sklearn.neighbors.KernelDensity (https://scikit-learn.org/stable/modules/generated/sklearn.neighbors.KernelDensity.html). \n",
    "\n",
    "The 'metric' is set to 'haversine' for spherical computation (for exemple see https://scikit-learn.org/stable/auto_examples/neighbors/plot_species_kde.html#sphx-glr-auto-examples-neighbors-plot-species-kde-py)\n",
    "\n",
    "We are using a gaussian kernel.\n",
    "\n",
    "**Warning :** The 'bandwidth' parameter is crutial parameter to set. It can have a strong influence on your pole figure and you interpretation. You should set it up carefully and be critic on your pole figure. Here we show different pole figure for different bandwidth value using the same data as input."
   ]
  },
  {
   "cell_type": "code",
   "execution_count": 7,
   "metadata": {},
   "outputs": [
    {
     "data": {
      "application/vnd.jupyter.widget-view+json": {
       "model_id": "f094d95a4ce0444680f86c5ee64ff5c1",
       "version_major": 2,
       "version_minor": 0
      },
      "text/plain": [
       "Canvas(toolbar=Toolbar(toolitems=[('Home', 'Reset original view', 'home', 'home'), ('Back', 'Back to previous …"
      ]
     },
     "metadata": {},
     "output_type": "display_data"
    },
    {
     "name": "stderr",
     "output_type": "stream",
     "text": [
      "/home/chauvet/Documents/NewPC/GitPythonTools/aita/AITAToolbox/aita.py:525: RuntimeWarning: invalid value encountered in remainder\n",
      "  azi=np.mod(self.phi1.field.reshape((-1,1))-math.pi/2,2*math.pi)\n",
      "/home/chauvet/Documents/NewPC/GitPythonTools/aita/AITAToolbox/aita.py:525: RuntimeWarning: invalid value encountered in remainder\n",
      "  azi=np.mod(self.phi1.field.reshape((-1,1))-math.pi/2,2*math.pi)\n",
      "/home/chauvet/Documents/NewPC/GitPythonTools/aita/AITAToolbox/aita.py:525: RuntimeWarning: invalid value encountered in remainder\n",
      "  azi=np.mod(self.phi1.field.reshape((-1,1))-math.pi/2,2*math.pi)\n",
      "/home/chauvet/Documents/NewPC/GitPythonTools/aita/AITAToolbox/aita.py:525: RuntimeWarning: invalid value encountered in remainder\n",
      "  azi=np.mod(self.phi1.field.reshape((-1,1))-math.pi/2,2*math.pi)\n"
     ]
    },
    {
     "data": {
      "text/plain": [
       "Text(0.5, 1.0, 'bw=2')"
      ]
     },
     "execution_count": 7,
     "metadata": {},
     "output_type": "execute_result"
    }
   ],
   "source": [
    "plt.figure(figsize=(7,7),dpi=160)\n",
    "plt.subplot(2,2,1)\n",
    "data.plotpdf(contourf=True,angle=0,bw=0.05)\n",
    "plt.title('bw=0.05')\n",
    "plt.subplot(2,2,2)\n",
    "data.plotpdf(contourf=True,angle=0,bw=0.1)\n",
    "plt.title('bw=0.1')\n",
    "plt.subplot(2,2,3)\n",
    "data.plotpdf(contourf=True,angle=0,bw=0.3)\n",
    "plt.title('bw=0.3')\n",
    "plt.subplot(2,2,4)\n",
    "data.plotpdf(contourf=True,angle=0,bw=2.0)\n",
    "plt.title('bw=2')"
   ]
  }
 ],
 "metadata": {
  "kernelspec": {
   "display_name": "Python 3",
   "language": "python",
   "name": "python3"
  },
  "language_info": {
   "codemirror_mode": {
    "name": "ipython",
    "version": 3
   },
   "file_extension": ".py",
   "mimetype": "text/x-python",
   "name": "python",
   "nbconvert_exporter": "python",
   "pygments_lexer": "ipython3",
   "version": "3.9.1"
  }
 },
 "nbformat": 4,
 "nbformat_minor": 4
}
