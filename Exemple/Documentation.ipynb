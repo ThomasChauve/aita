{
 "cells": [
  {
   "cell_type": "markdown",
   "metadata": {},
   "source": [
    "This documention is made from a jupyter notebook available in 'Exemple/Documentation.ipynb'\n",
    "\n",
    "# Load data from G50 analyser\n",
    "Loading data from G50 analyser after you convert binary file into ASCII file with 5 columuns."
   ]
  },
  {
   "cell_type": "code",
   "execution_count": 26,
   "metadata": {},
   "outputs": [],
   "source": [
    "import AITAToolbox.loadData_aita as lda\n",
    "import matplotlib.pyplot as plt\n",
    "import matplotlib.cm as cm\n",
    "import matplotlib.patches as patches\n",
    "import numpy as np\n",
    "%matplotlib widget"
   ]
  },
  {
   "cell_type": "markdown",
   "metadata": {},
   "source": [
    "## Without 'micro_test.bmp'"
   ]
  },
  {
   "cell_type": "code",
   "execution_count": 2,
   "metadata": {},
   "outputs": [
    {
     "name": "stdout",
     "output_type": "stream",
     "text": [
      "Sucessfull aita build !\n"
     ]
    }
   ],
   "source": [
    "data=lda.aita5col('orientation_test.dat')"
   ]
  },
  {
   "cell_type": "markdown",
   "metadata": {},
   "source": [
    "## With 'micro_test.bmp'\n",
    "The ‘micro_test.bmp’ file should be a black and white image with the grains boundaries being white. Therefore you should use :\n",
    "\n",
    "```python\n",
    "data.micro.save_bmp('micro')\n",
    "```"
   ]
  },
  {
   "cell_type": "markdown",
   "metadata": {},
   "source": [
    "# Basic treatment"
   ]
  },
  {
   "cell_type": "markdown",
   "metadata": {},
   "source": [
    "## Croping\n",
    "It can be usefull to select a sub area. Within a juptyter notebook use interactive_crop(). In ipython use just crop function."
   ]
  },
  {
   "cell_type": "code",
   "execution_count": 5,
   "metadata": {},
   "outputs": [
    {
     "name": "stdout",
     "output_type": "stream",
     "text": [
      "1. click and drag the mouse on the figure to selecte the area\n",
      "2. you can draw the rectangle using the button \"Draw area\"\n",
      "3. if you are unhappy with the selection restart to 1.\n",
      "4. if you are happy with the selection click on \"Export crop\" (only the last rectangle is taken into account)\n"
     ]
    },
    {
     "data": {
      "application/vnd.jupyter.widget-view+json": {
       "model_id": "e38a6dfaa29f475dad3ae212169881b7",
       "version_major": 2,
       "version_minor": 0
      },
      "text/plain": [
       "Canvas(toolbar=Toolbar(toolitems=[('Home', 'Reset original view', 'home', 'home'), ('Back', 'Back to previous …"
      ]
     },
     "metadata": {},
     "output_type": "display_data"
    },
    {
     "data": {
      "application/vnd.jupyter.widget-view+json": {
       "model_id": "a8c5789b60a149c397d1bde205305b76",
       "version_major": 2,
       "version_minor": 0
      },
      "text/plain": [
       "Button(description='Draw area', style=ButtonStyle())"
      ]
     },
     "metadata": {},
     "output_type": "display_data"
    },
    {
     "data": {
      "application/vnd.jupyter.widget-view+json": {
       "model_id": "f63de371aed44f0ea584d7ea9a972d64",
       "version_major": 2,
       "version_minor": 0
      },
      "text/plain": [
       "Button(description='Export crop', style=ButtonStyle())"
      ]
     },
     "metadata": {},
     "output_type": "display_data"
    }
   ],
   "source": [
    "out=data.interactive_crop(new=True)"
   ]
  },
  {
   "cell_type": "markdown",
   "metadata": {},
   "source": [
    "Once you did 'Export crop' the position of the rectangle can be find in :\n",
    "```python\n",
    "out.pos=np.array([xmin,xmax,ymin,ymax])\n",
    "```"
   ]
  },
  {
   "cell_type": "code",
   "execution_count": 31,
   "metadata": {},
   "outputs": [
    {
     "data": {
      "application/vnd.jupyter.widget-view+json": {
       "model_id": "6343f9a7d60f4aee98125c7d1a23bc87",
       "version_major": 2,
       "version_minor": 0
      },
      "text/plain": [
       "Canvas(toolbar=Toolbar(toolitems=[('Home', 'Reset original view', 'home', 'home'), ('Back', 'Back to previous …"
      ]
     },
     "metadata": {},
     "output_type": "display_data"
    },
    {
     "data": {
      "application/vnd.jupyter.widget-view+json": {
       "model_id": "c0ff56b01369480f84d5fc57b66c6f2d",
       "version_major": 2,
       "version_minor": 0
      },
      "text/plain": [
       "Canvas(toolbar=Toolbar(toolitems=[('Home', 'Reset original view', 'home', 'home'), ('Back', 'Back to previous …"
      ]
     },
     "metadata": {},
     "output_type": "display_data"
    },
    {
     "data": {
      "text/plain": [
       "Text(0.5, 1.0, 'Crop data')"
      ]
     },
     "execution_count": 31,
     "metadata": {},
     "output_type": "execute_result"
    }
   ],
   "source": [
    "ss=np.shape(data.phi.field)\n",
    "res=data.phi.res\n",
    "\n",
    "fig,ax=plt.subplots()\n",
    "data.phi1.plot()\n",
    "rect=patches.Rectangle((out.pos[0]*res, (ss[0]-out.pos[3])*res), (out.pos[1]-out.pos[0])*res, (out.pos[3]-out.pos[2])*res, linewidth=1, edgecolor='k', facecolor='none')\n",
    "plt.title('Full data with crop area')\n",
    "ax.add_patch(rect)\n",
    "plt.subplots()\n",
    "out.crop_data.phi1.plot()\n",
    "plt.title('Crop data')"
   ]
  },
  {
   "cell_type": "markdown",
   "metadata": {},
   "source": [
    "## Segmentation of microstrucuture\n",
    "If you want to do it. It should not be use if you already load the microstrucure."
   ]
  },
  {
   "cell_type": "code",
   "execution_count": 4,
   "metadata": {},
   "outputs": [
    {
     "data": {
      "application/vnd.jupyter.widget-view+json": {
       "model_id": "3676da1bdb1e4c09930d39f3005842d1",
       "version_major": 2,
       "version_minor": 0
      },
      "text/plain": [
       "Canvas(toolbar=Toolbar(toolitems=[('Home', 'Reset original view', 'home', 'home'), ('Back', 'Back to previous …"
      ]
     },
     "metadata": {},
     "output_type": "display_data"
    },
    {
     "data": {
      "application/vnd.jupyter.widget-view+json": {
       "model_id": "653ab33b81984dc591aefd084488958c",
       "version_major": 2,
       "version_minor": 0
      },
      "text/plain": [
       "  0%|          | 0/739 [00:00<?, ?it/s]"
      ]
     },
     "metadata": {},
     "output_type": "display_data"
    },
    {
     "data": {
      "application/vnd.jupyter.widget-view+json": {
       "model_id": "31f50e4c4e754a5ea33cbba35bdd1741",
       "version_major": 2,
       "version_minor": 0
      },
      "text/plain": [
       "  0%|          | 0/739 [00:00<?, ?it/s]"
      ]
     },
     "metadata": {},
     "output_type": "display_data"
    },
    {
     "data": {
      "application/vnd.jupyter.widget-view+json": {
       "model_id": "d5438c51e16c48e7bad3a31a38f3c412",
       "version_major": 2,
       "version_minor": 0
      },
      "text/plain": [
       "VBox(children=(HBox(children=(FloatSlider(value=1.0, continuous_update=False, description='Scharr filter:', ma…"
      ]
     },
     "metadata": {},
     "output_type": "display_data"
    },
    {
     "data": {
      "application/vnd.jupyter.widget-view+json": {
       "model_id": "0c90022f286e4006aee76aaea6f31717",
       "version_major": 2,
       "version_minor": 0
      },
      "text/plain": [
       "Output()"
      ]
     },
     "metadata": {},
     "output_type": "display_data"
    }
   ],
   "source": [
    "plt.figure(figsize=(10,10))\n",
    "res=data.interactive_segmentation()"
   ]
  },
  {
   "cell_type": "markdown",
   "metadata": {},
   "source": [
    "Once you did 'Export AITA' you can save the microstrucuture using :\n",
    "```python\n",
    "data.micro.save_bmp('micro')\n",
    "```\n",
    "\n",
    "You can also see the parameter used for the segmentation in res."
   ]
  },
  {
   "cell_type": "code",
   "execution_count": 5,
   "metadata": {},
   "outputs": [
    {
     "name": "stdout",
     "output_type": "stream",
     "text": [
      "Use scharr: True\n",
      "Value scharr: 4.2\n",
      "Use canny: True\n",
      "Value canny: 6.1\n",
      "Images canny: semi color wheel\n",
      "Use quality: True\n",
      "Value quality: 47.0\n"
     ]
    }
   ],
   "source": [
    "print('Use scharr:',res.use_scharr)\n",
    "print('Value scharr:',res.val_scharr)\n",
    "print('Use canny:',res.use_canny)\n",
    "print('Value canny:',res.val_canny)\n",
    "print('Images canny:',res.img_canny)\n",
    "print('Use quality:',res.use_quality)\n",
    "print('Value quality:',res.val_quality)"
   ]
  },
  {
   "cell_type": "markdown",
   "metadata": {},
   "source": [
    "## Filter the data\n",
    "This function filter the bad indexed value. Using G50 analyser a quelity factor is given between 0 and 100. Usualy using data with a quality factor higher than 75 is a good option."
   ]
  },
  {
   "cell_type": "code",
   "execution_count": 6,
   "metadata": {},
   "outputs": [],
   "source": [
    "data.filter(75)"
   ]
  },
  {
   "cell_type": "markdown",
   "metadata": {},
   "source": [
    "# Colormap\n",
    "Plotting the colormap with the grains boundaries\n",
    "## Full ColorWheel\n",
    "**Advantages**\n",
    "1. The full colorwheel has unique relation between color and orientation.\n",
    "\n",
    "**Inconveniants**\n",
    "1. The color are discountinous for $v=\\left[x,y,z=0 \\pm \\varepsilon\\right]$"
   ]
  },
  {
   "cell_type": "code",
   "execution_count": 7,
   "metadata": {},
   "outputs": [
    {
     "data": {
      "application/vnd.jupyter.widget-view+json": {
       "model_id": "0e6f759167d74d78a40d31292984c290",
       "version_major": 2,
       "version_minor": 0
      },
      "text/plain": [
       "Canvas(toolbar=Toolbar(toolitems=[('Home', 'Reset original view', 'home', 'home'), ('Back', 'Back to previous …"
      ]
     },
     "metadata": {},
     "output_type": "display_data"
    },
    {
     "data": {
      "application/vnd.jupyter.widget-view+json": {
       "model_id": "af01619316c3400c8141a0eb5581df47",
       "version_major": 2,
       "version_minor": 0
      },
      "text/plain": [
       "  0%|          | 0/739 [00:00<?, ?it/s]"
      ]
     },
     "metadata": {},
     "output_type": "display_data"
    },
    {
     "data": {
      "text/plain": [
       "Text(0.5, 1.0, 'Colormap')"
      ]
     },
     "execution_count": 7,
     "metadata": {},
     "output_type": "execute_result"
    }
   ],
   "source": [
    "plt.figure(figsize=(8,8))\n",
    "data.plot()\n",
    "data.micro.plotBoundary(dilatation=2)\n",
    "plt.title('Colormap')"
   ]
  },
  {
   "cell_type": "markdown",
   "metadata": {},
   "source": [
    "The associated full colorwheel :"
   ]
  },
  {
   "cell_type": "code",
   "execution_count": 21,
   "metadata": {},
   "outputs": [
    {
     "data": {
      "application/vnd.jupyter.widget-view+json": {
       "model_id": "acea8d1675af49b28e60393a321447ca",
       "version_major": 2,
       "version_minor": 0
      },
      "text/plain": [
       "Canvas(toolbar=Toolbar(toolitems=[('Home', 'Reset original view', 'home', 'home'), ('Back', 'Back to previous …"
      ]
     },
     "metadata": {},
     "output_type": "display_data"
    },
    {
     "data": {
      "text/plain": [
       "Text(0.5, 1.0, 'LUT')"
      ]
     },
     "execution_count": 21,
     "metadata": {},
     "output_type": "execute_result"
    }
   ],
   "source": [
    "plt.figure(figsize=(2,2))\n",
    "plt.imshow(lda.aita.lut())\n",
    "plt.axis('off')\n",
    "plt.title('LUT')"
   ]
  },
  {
   "cell_type": "markdown",
   "metadata": {},
   "source": [
    "## Semi ColorWheel\n",
    "**Advantage**\n",
    "1. No color discontinuity for $v=\\left[x,y,z=0 \\pm \\varepsilon\\right]$\n",
    "\n",
    "**Inconvinent**\n",
    "\n",
    "2. The semi colorwheel has **non** unique relation between color and orientation.\n"
   ]
  },
  {
   "cell_type": "code",
   "execution_count": 23,
   "metadata": {},
   "outputs": [
    {
     "data": {
      "application/vnd.jupyter.widget-view+json": {
       "model_id": "38af8b2f80b24879a0010f987e890e8f",
       "version_major": 2,
       "version_minor": 0
      },
      "text/plain": [
       "Canvas(toolbar=Toolbar(toolitems=[('Home', 'Reset original view', 'home', 'home'), ('Back', 'Back to previous …"
      ]
     },
     "metadata": {},
     "output_type": "display_data"
    },
    {
     "data": {
      "application/vnd.jupyter.widget-view+json": {
       "model_id": "fd19855f5e304cbf9996ca9aea60ae74",
       "version_major": 2,
       "version_minor": 0
      },
      "text/plain": [
       "  0%|          | 0/488 [00:00<?, ?it/s]"
      ]
     },
     "metadata": {},
     "output_type": "display_data"
    },
    {
     "data": {
      "text/plain": [
       "Text(0.5, 1.0, 'Colormap')"
      ]
     },
     "execution_count": 23,
     "metadata": {},
     "output_type": "execute_result"
    }
   ],
   "source": [
    "plt.figure(figsize=(8,8))\n",
    "data.plot(semi=True)\n",
    "data.micro.plotBoundary(dilatation=2)\n",
    "plt.title('Colormap')"
   ]
  },
  {
   "cell_type": "markdown",
   "metadata": {},
   "source": [
    "The associated full colorwheel :"
   ]
  },
  {
   "cell_type": "code",
   "execution_count": 24,
   "metadata": {},
   "outputs": [
    {
     "data": {
      "application/vnd.jupyter.widget-view+json": {
       "model_id": "ad3d0c48573c4649b2b94571c28448d1",
       "version_major": 2,
       "version_minor": 0
      },
      "text/plain": [
       "Canvas(toolbar=Toolbar(toolitems=[('Home', 'Reset original view', 'home', 'home'), ('Back', 'Back to previous …"
      ]
     },
     "metadata": {},
     "output_type": "display_data"
    },
    {
     "data": {
      "text/plain": [
       "Text(0.5, 1.0, 'LUT')"
      ]
     },
     "execution_count": 24,
     "metadata": {},
     "output_type": "execute_result"
    }
   ],
   "source": [
    "plt.figure(figsize=(2,2))\n",
    "plt.imshow(lda.aita.lut(semi=True))\n",
    "plt.axis('off')\n",
    "plt.title('LUT')"
   ]
  },
  {
   "cell_type": "markdown",
   "metadata": {},
   "source": [
    "# Pole figure\n",
    "There is various option to plot the pole figure here we focus on some of them but to see all of them refer to the documentation of plotpdf function.\n",
    "\n",
    "The color coding of the pole figure is obtain using a Kernel Density Estimation (KDE). This KDE has to be manipulating carrefully. If you want to have a basic idea of what is a KDE you can look at https://mathisonian.github.io/kde/.\n",
    "\n",
    "## Representation\n",
    "### Pole figure all sample\n",
    "Here some of the option are shown as contour plot, and with or without circle for specific angle.\n",
    "\n",
    "Be aware that to reduce the computation time we only used by default 10000 orientations selected randomly. You can modify this using 'nbp' value. If you set nbp to 0 it use all the data."
   ]
  },
  {
   "cell_type": "code",
   "execution_count": 8,
   "metadata": {},
   "outputs": [
    {
     "data": {
      "application/vnd.jupyter.widget-view+json": {
       "model_id": "aa84f399762e409a9a8e6d474a728a36",
       "version_major": 2,
       "version_minor": 0
      },
      "text/plain": [
       "Canvas(toolbar=Toolbar(toolitems=[('Home', 'Reset original view', 'home', 'home'), ('Back', 'Back to previous …"
      ]
     },
     "metadata": {},
     "output_type": "display_data"
    },
    {
     "data": {
      "text/plain": [
       "array([0.43087733, 0.32878745, 0.24033524], dtype=float32)"
      ]
     },
     "execution_count": 8,
     "metadata": {},
     "output_type": "execute_result"
    }
   ],
   "source": [
    "plt.figure(figsize=(7,7),dpi=160)\n",
    "plt.subplot(2,2,1)\n",
    "data.plotpdf(contourf=True,angle=0,cm2=cm.gray)\n",
    "plt.subplot(2,2,2)\n",
    "data.plotpdf(contourf=True)\n",
    "plt.subplot(2,2,3)\n",
    "data.plotpdf(angle=0)\n",
    "plt.subplot(2,2,4)\n",
    "data.plotpdf()"
   ]
  },
  {
   "cell_type": "markdown",
   "metadata": {},
   "source": [
    "## Kernel Density Estimation\n",
    "If you want to have an idea of a basic KDE in one dimention refer to https://mathisonian.github.io/kde/\n",
    "\n",
    "Here there is some specificities du to the fact that we are computing KDE on a sphere. To do so we are using sklearn.neighbors.KernelDensity (https://scikit-learn.org/stable/modules/generated/sklearn.neighbors.KernelDensity.html). \n",
    "\n",
    "The 'metric' is set to 'haversine' for spherical computation (for exemple see https://scikit-learn.org/stable/auto_examples/neighbors/plot_species_kde.html#sphx-glr-auto-examples-neighbors-plot-species-kde-py)\n",
    "\n",
    "We are using a gaussian kernel.\n",
    "\n",
    "**Warning :** The 'bandwidth' parameter is crutial parameter to set. It can have a strong influence on your pole figure and you interpretation. You should set it up carefully and be critic on your pole figure. Here we show different pole figure for different bandwidth value using the same data as input."
   ]
  },
  {
   "cell_type": "code",
   "execution_count": 9,
   "metadata": {},
   "outputs": [
    {
     "data": {
      "application/vnd.jupyter.widget-view+json": {
       "model_id": "e50efcea98be4ff9a86af7c6605b5e6c",
       "version_major": 2,
       "version_minor": 0
      },
      "text/plain": [
       "Canvas(toolbar=Toolbar(toolitems=[('Home', 'Reset original view', 'home', 'home'), ('Back', 'Back to previous …"
      ]
     },
     "metadata": {},
     "output_type": "display_data"
    },
    {
     "name": "stderr",
     "output_type": "stream",
     "text": [
      "/home/chauvet/Documents/NewPC/GitPythonTools/aita/AITAToolbox/aita.py:371: RuntimeWarning: invalid value encountered in remainder\n",
      "  azi=np.mod(self.phi1.field.reshape((-1,1))-math.pi/2,2*math.pi)\n",
      "/home/chauvet/Documents/NewPC/GitPythonTools/aita/AITAToolbox/aita.py:371: RuntimeWarning: invalid value encountered in remainder\n",
      "  azi=np.mod(self.phi1.field.reshape((-1,1))-math.pi/2,2*math.pi)\n",
      "/home/chauvet/Documents/NewPC/GitPythonTools/aita/AITAToolbox/aita.py:371: RuntimeWarning: invalid value encountered in remainder\n",
      "  azi=np.mod(self.phi1.field.reshape((-1,1))-math.pi/2,2*math.pi)\n",
      "/home/chauvet/Documents/NewPC/GitPythonTools/aita/AITAToolbox/aita.py:371: RuntimeWarning: invalid value encountered in remainder\n",
      "  azi=np.mod(self.phi1.field.reshape((-1,1))-math.pi/2,2*math.pi)\n"
     ]
    },
    {
     "data": {
      "text/plain": [
       "Text(0.5, 1.0, 'bw=2')"
      ]
     },
     "execution_count": 9,
     "metadata": {},
     "output_type": "execute_result"
    }
   ],
   "source": [
    "plt.figure(figsize=(7,7),dpi=160)\n",
    "plt.subplot(2,2,1)\n",
    "data.plotpdf(contourf=True,angle=0,bw=0.05)\n",
    "plt.title('bw=0.05')\n",
    "plt.subplot(2,2,2)\n",
    "data.plotpdf(contourf=True,angle=0,bw=0.1)\n",
    "plt.title('bw=0.1')\n",
    "plt.subplot(2,2,3)\n",
    "data.plotpdf(contourf=True,angle=0,bw=0.3)\n",
    "plt.title('bw=0.3')\n",
    "plt.subplot(2,2,4)\n",
    "data.plotpdf(contourf=True,angle=0,bw=2.0)\n",
    "plt.title('bw=2')"
   ]
  },
  {
   "cell_type": "markdown",
   "metadata": {},
   "source": [
    "# Misorientation profile"
   ]
  },
  {
   "cell_type": "code",
   "execution_count": 10,
   "metadata": {},
   "outputs": [
    {
     "data": {
      "application/vnd.jupyter.widget-view+json": {
       "model_id": "0cdec4fd2f4d4e9594ff9315cb179b50",
       "version_major": 2,
       "version_minor": 0
      },
      "text/plain": [
       "Canvas(toolbar=Toolbar(toolitems=[('Home', 'Reset original view', 'home', 'home'), ('Back', 'Back to previous …"
      ]
     },
     "metadata": {},
     "output_type": "display_data"
    },
    {
     "data": {
      "application/vnd.jupyter.widget-view+json": {
       "model_id": "d41667a7305c4fa5adbbda5dcd97fdee",
       "version_major": 2,
       "version_minor": 0
      },
      "text/plain": [
       "Button(description='Show line', style=ButtonStyle())"
      ]
     },
     "metadata": {},
     "output_type": "display_data"
    },
    {
     "data": {
      "application/vnd.jupyter.widget-view+json": {
       "model_id": "12897b1bfc4f4ad58cac90af0cc1f424",
       "version_major": 2,
       "version_minor": 0
      },
      "text/plain": [
       "Button(description='Extract profile', style=ButtonStyle())"
      ]
     },
     "metadata": {},
     "output_type": "display_data"
    }
   ],
   "source": [
    "res=data.interactive_misorientation_profile()"
   ]
  },
  {
   "cell_type": "code",
   "execution_count": 11,
   "metadata": {},
   "outputs": [
    {
     "data": {
      "application/vnd.jupyter.widget-view+json": {
       "model_id": "577bb94b27b34d80b3ea3f7a90abc648",
       "version_major": 2,
       "version_minor": 0
      },
      "text/plain": [
       "Canvas(toolbar=Toolbar(toolitems=[('Home', 'Reset original view', 'home', 'home'), ('Back', 'Back to previous …"
      ]
     },
     "metadata": {},
     "output_type": "display_data"
    },
    {
     "data": {
      "text/plain": [
       "Text(0, 0.5, 'Angle')"
      ]
     },
     "execution_count": 11,
     "metadata": {},
     "output_type": "execute_result"
    }
   ],
   "source": [
    "plt.figure()\n",
    "plt.plot(res.x,res.mis2o,'b-',label='mis2o')\n",
    "plt.plot(res.x,res.mis2p,'k-',label='mis2p')\n",
    "plt.grid()\n",
    "plt.legend()\n",
    "plt.xlabel('Distance')\n",
    "plt.ylabel('Angle')"
   ]
  },
  {
   "cell_type": "markdown",
   "metadata": {},
   "source": [
    "# Grelon function\n",
    "The grelon function compute the angle between the c-axis at each pixel and the unit radial vector from the center. The center is given by the user.\n",
    "\n",
    "Using the interactive_grelon function you can click as many time as you want. When you push export, it will compute the angle using the last click (input)"
   ]
  },
  {
   "cell_type": "code",
   "execution_count": 12,
   "metadata": {},
   "outputs": [
    {
     "data": {
      "application/vnd.jupyter.widget-view+json": {
       "model_id": "c910211a97264269956031d418c648dd",
       "version_major": 2,
       "version_minor": 0
      },
      "text/plain": [
       "Canvas(toolbar=Toolbar(toolitems=[('Home', 'Reset original view', 'home', 'home'), ('Back', 'Back to previous …"
      ]
     },
     "metadata": {},
     "output_type": "display_data"
    },
    {
     "data": {
      "application/vnd.jupyter.widget-view+json": {
       "model_id": "51e6a13c47dd44c0a2872264be2958bf",
       "version_major": 2,
       "version_minor": 0
      },
      "text/plain": [
       "Button(description='Export', style=ButtonStyle())"
      ]
     },
     "metadata": {},
     "output_type": "display_data"
    }
   ],
   "source": [
    "grelon=data.interactive_grelon()"
   ]
  },
  {
   "cell_type": "code",
   "execution_count": 13,
   "metadata": {},
   "outputs": [
    {
     "data": {
      "application/vnd.jupyter.widget-view+json": {
       "model_id": "236da73a577f43c0aaaf3e0047597de4",
       "version_major": 2,
       "version_minor": 0
      },
      "text/plain": [
       "Canvas(toolbar=Toolbar(toolitems=[('Home', 'Reset original view', 'home', 'home'), ('Back', 'Back to previous …"
      ]
     },
     "metadata": {},
     "output_type": "display_data"
    },
    {
     "data": {
      "text/plain": [
       "[<matplotlib.lines.Line2D at 0x7f6e013152b0>]"
      ]
     },
     "execution_count": 13,
     "metadata": {},
     "output_type": "execute_result"
    }
   ],
   "source": [
    "#You can plot the angle map in degree using.\n",
    "plt.figure()\n",
    "grelon.map.plot()\n",
    "#You can find the center use for the computation\n",
    "plt.plot(grelon.center[0],grelon.center[1],'ks')"
   ]
  }
 ],
 "metadata": {
  "kernelspec": {
   "display_name": "basepy39",
   "language": "python",
   "name": "basepy39"
  },
  "language_info": {
   "codemirror_mode": {
    "name": "ipython",
    "version": 3
   },
   "file_extension": ".py",
   "mimetype": "text/x-python",
   "name": "python",
   "nbconvert_exporter": "python",
   "pygments_lexer": "ipython3",
   "version": "3.9.1"
  }
 },
 "nbformat": 4,
 "nbformat_minor": 4
}
