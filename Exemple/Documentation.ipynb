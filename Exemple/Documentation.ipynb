{
 "cells": [
  {
   "cell_type": "markdown",
   "metadata": {},
   "source": [
    "This documention is made from a jupyter notebook available in 'Exemple/Documentation.ipynb'\n",
    "\n",
    "# Load data from G50 analyser\n",
    "Loading data from G50 analyser after you convert binary file into ASCII file with 5 columuns."
   ]
  },
  {
   "cell_type": "code",
   "execution_count": 4,
   "metadata": {},
   "outputs": [],
   "source": [
    "import AITAToolbox.loadData_aita as lda\n",
    "import matplotlib.pyplot as plt\n",
    "import matplotlib.cm as cm\n",
    "import matplotlib.patches as patches\n",
    "import numpy as np\n",
    "import math\n",
    "import scipy\n",
    "%matplotlib widget"
   ]
  },
  {
   "cell_type": "markdown",
   "metadata": {},
   "source": [
    "## Without 'micro_test.bmp'"
   ]
  },
  {
   "cell_type": "code",
   "execution_count": 5,
   "metadata": {},
   "outputs": [
    {
     "name": "stdout",
     "output_type": "stream",
     "text": [
      "Sucessfull aita build !\n"
     ]
    }
   ],
   "source": [
    "data=lda.aita5col('orientation_test.dat')"
   ]
  },
  {
   "cell_type": "markdown",
   "metadata": {},
   "source": [
    "## With 'micro_test.bmp'\n",
    "The ‘micro_test.bmp’ file should be a black and white image with the grains boundaries being white. Therefore you should use :\n",
    "\n",
    "```python\n",
    "data=lda.aita5col('orientation_test.dat','micro.test.bmp')\n",
    "```"
   ]
  },
  {
   "cell_type": "markdown",
   "metadata": {},
   "source": [
    "# Basic treatment"
   ]
  },
  {
   "cell_type": "markdown",
   "metadata": {},
   "source": [
    "## Croping\n",
    "It can be usefull to select a sub area. Within a juptyter notebook use interactive_crop(). In ipython use just crop function."
   ]
  },
  {
   "cell_type": "code",
   "execution_count": 6,
   "metadata": {},
   "outputs": [
    {
     "name": "stdout",
     "output_type": "stream",
     "text": [
      "1. click and drag the mouse on the figure to selecte the area\n",
      "2. you can draw the rectangle using the button \"Draw area\"\n",
      "3. if you are unhappy with the selection restart to 1.\n",
      "4. if you are happy with the selection click on \"Export crop\" (only the last rectangle is taken into account)\n"
     ]
    },
    {
     "data": {
      "application/vnd.jupyter.widget-view+json": {
       "model_id": "4840dc219c1f447092a3089e34240bcf",
       "version_major": 2,
       "version_minor": 0
      },
      "text/plain": [
       "Canvas(toolbar=Toolbar(toolitems=[('Home', 'Reset original view', 'home', 'home'), ('Back', 'Back to previous …"
      ]
     },
     "metadata": {},
     "output_type": "display_data"
    },
    {
     "data": {
      "application/vnd.jupyter.widget-view+json": {
       "model_id": "2a90c53fd2f6457b841b4027e14437ea",
       "version_major": 2,
       "version_minor": 0
      },
      "text/plain": [
       "Button(description='Draw area', style=ButtonStyle())"
      ]
     },
     "metadata": {},
     "output_type": "display_data"
    },
    {
     "data": {
      "application/vnd.jupyter.widget-view+json": {
       "model_id": "02bf408bfaf948faab88c7329d92fe5e",
       "version_major": 2,
       "version_minor": 0
      },
      "text/plain": [
       "Button(description='Export crop', style=ButtonStyle())"
      ]
     },
     "metadata": {},
     "output_type": "display_data"
    }
   ],
   "source": [
    "out=data.interactive_crop(new=True)"
   ]
  },
  {
   "cell_type": "markdown",
   "metadata": {},
   "source": [
    "Once you did 'Export crop' the position of the rectangle can be find in :\n",
    "```python\n",
    "out.pos=np.array([xmin,xmax,ymin,ymax])\n",
    "```"
   ]
  },
  {
   "cell_type": "code",
   "execution_count": 8,
   "metadata": {},
   "outputs": [
    {
     "data": {
      "application/vnd.jupyter.widget-view+json": {
       "model_id": "3d8bba1d74ad42909e166716783e71ae",
       "version_major": 2,
       "version_minor": 0
      },
      "text/plain": [
       "Canvas(toolbar=Toolbar(toolitems=[('Home', 'Reset original view', 'home', 'home'), ('Back', 'Back to previous …"
      ]
     },
     "metadata": {},
     "output_type": "display_data"
    },
    {
     "data": {
      "application/vnd.jupyter.widget-view+json": {
       "model_id": "02617ce6e2464ff3a8589359bb6c648f",
       "version_major": 2,
       "version_minor": 0
      },
      "text/plain": [
       "Canvas(toolbar=Toolbar(toolitems=[('Home', 'Reset original view', 'home', 'home'), ('Back', 'Back to previous …"
      ]
     },
     "metadata": {},
     "output_type": "display_data"
    },
    {
     "data": {
      "text/plain": [
       "Text(0.5, 1.0, 'Crop data')"
      ]
     },
     "execution_count": 8,
     "metadata": {},
     "output_type": "execute_result"
    }
   ],
   "source": [
    "ss=np.shape(data.phi.field)\n",
    "res=data.phi.res\n",
    "\n",
    "fig,ax=plt.subplots()\n",
    "data.phi1.plot()\n",
    "rect=patches.Rectangle((out.pos[0]*res, (ss[0]-out.pos[3])*res), (out.pos[1]-out.pos[0])*res, (out.pos[3]-out.pos[2])*res, linewidth=1, edgecolor='b', facecolor='none')\n",
    "plt.title('Full data with crop area')\n",
    "ax.add_patch(rect)\n",
    "plt.subplots()\n",
    "out.crop_data.phi1.plot()\n",
    "plt.title('Crop data')"
   ]
  },
  {
   "cell_type": "markdown",
   "metadata": {},
   "source": [
    "## Segmentation of microstrucuture\n",
    "If you want to do it. It should not be use if you already load the microstrucure."
   ]
  },
  {
   "cell_type": "code",
   "execution_count": 9,
   "metadata": {},
   "outputs": [
    {
     "data": {
      "application/vnd.jupyter.widget-view+json": {
       "model_id": "dacfbe5d8d174d228e3a925c33bf09c6",
       "version_major": 2,
       "version_minor": 0
      },
      "text/plain": [
       "Canvas(toolbar=Toolbar(toolitems=[('Home', 'Reset original view', 'home', 'home'), ('Back', 'Back to previous …"
      ]
     },
     "metadata": {},
     "output_type": "display_data"
    },
    {
     "data": {
      "application/vnd.jupyter.widget-view+json": {
       "model_id": "1d080ec3ffde4480acfcbb54d3c41c4d",
       "version_major": 2,
       "version_minor": 0
      },
      "text/plain": [
       "VBox(children=(HBox(children=(FloatSlider(value=1.5, continuous_update=False, description='Scharr filter:', ma…"
      ]
     },
     "metadata": {},
     "output_type": "display_data"
    },
    {
     "data": {
      "application/vnd.jupyter.widget-view+json": {
       "model_id": "024b1574161146c6acba9bfb8ea3a286",
       "version_major": 2,
       "version_minor": 0
      },
      "text/plain": [
       "Output()"
      ]
     },
     "metadata": {},
     "output_type": "display_data"
    }
   ],
   "source": [
    "plt.figure(figsize=(10,10))\n",
    "seg=out.crop_data.interactive_segmentation()"
   ]
  },
  {
   "cell_type": "markdown",
   "metadata": {},
   "source": [
    "Once you did 'Export AITA' you can save the microstrucuture using :\n",
    "```python\n",
    "data.micro.save_bmp('micro')\n",
    "```\n",
    "\n",
    "You can also see the parameter used for the segmentation in res."
   ]
  },
  {
   "cell_type": "code",
   "execution_count": 10,
   "metadata": {},
   "outputs": [
    {
     "name": "stdout",
     "output_type": "stream",
     "text": [
      "Use scharr: True\n",
      "Value scharr: 1.5\n",
      "Use canny: True\n",
      "Value canny: 1.5\n",
      "Images canny: semi color wheel\n",
      "Use quality: False\n",
      "Value quality: 60.0\n",
      "Include border: False\n"
     ]
    }
   ],
   "source": [
    "print('Use scharr:',seg.use_scharr)\n",
    "print('Value scharr:',seg.val_scharr)\n",
    "print('Use canny:',seg.use_canny)\n",
    "print('Value canny:',seg.val_canny)\n",
    "print('Images canny:',seg.img_canny)\n",
    "print('Use quality:',seg.use_quality)\n",
    "print('Value quality:',seg.val_quality)\n",
    "print('Include border:',seg.include_border)"
   ]
  },
  {
   "cell_type": "markdown",
   "metadata": {},
   "source": [
    "## Filter the data\n",
    "This function filter the bad indexed value. Using G50 analyser a quelity factor is given between 0 and 100. Usualy using data with a quality factor higher than 75 is a good option."
   ]
  },
  {
   "cell_type": "code",
   "execution_count": 11,
   "metadata": {},
   "outputs": [],
   "source": [
    "data.filter(75)"
   ]
  },
  {
   "cell_type": "markdown",
   "metadata": {},
   "source": [
    "# Colormap\n",
    "Plotting the colormap with the grains boundaries\n",
    "## Full ColorWheel\n",
    "**Advantages**\n",
    "1. The full colorwheel has unique relation between color and orientation.\n",
    "\n",
    "**Inconveniants**\n",
    "1. The color are discountinous for $v=\\left[x,y,z=0 \\pm \\varepsilon\\right]$"
   ]
  },
  {
   "cell_type": "code",
   "execution_count": 12,
   "metadata": {},
   "outputs": [
    {
     "data": {
      "application/vnd.jupyter.widget-view+json": {
       "model_id": "942f0d89470148979a32f1d72593ad4e",
       "version_major": 2,
       "version_minor": 0
      },
      "text/plain": [
       "Canvas(toolbar=Toolbar(toolitems=[('Home', 'Reset original view', 'home', 'home'), ('Back', 'Back to previous …"
      ]
     },
     "metadata": {},
     "output_type": "display_data"
    },
    {
     "name": "stderr",
     "output_type": "stream",
     "text": [
      "Clipping input data to the valid range for imshow with RGB data ([0..1] for floats or [0..255] for integers).\n"
     ]
    },
    {
     "data": {
      "text/plain": [
       "Text(0.5, 1.0, 'Colormap')"
      ]
     },
     "execution_count": 12,
     "metadata": {},
     "output_type": "execute_result"
    }
   ],
   "source": [
    "plt.figure(figsize=(8,8))\n",
    "data.plot()\n",
    "data.micro.plotBoundary(dilatation=2)\n",
    "plt.title('Colormap')"
   ]
  },
  {
   "cell_type": "markdown",
   "metadata": {},
   "source": [
    "The associated full colorwheel :"
   ]
  },
  {
   "cell_type": "code",
   "execution_count": 13,
   "metadata": {},
   "outputs": [
    {
     "data": {
      "application/vnd.jupyter.widget-view+json": {
       "model_id": "8315e7a75ef741f6a24f98e157bed073",
       "version_major": 2,
       "version_minor": 0
      },
      "text/plain": [
       "Canvas(toolbar=Toolbar(toolitems=[('Home', 'Reset original view', 'home', 'home'), ('Back', 'Back to previous …"
      ]
     },
     "metadata": {},
     "output_type": "display_data"
    },
    {
     "data": {
      "text/plain": [
       "Text(0.5, 1.0, 'LUT')"
      ]
     },
     "execution_count": 13,
     "metadata": {},
     "output_type": "execute_result"
    }
   ],
   "source": [
    "plt.figure(figsize=(2,2))\n",
    "plt.imshow(lda.aita.lut())\n",
    "plt.axis('off')\n",
    "plt.title('LUT')"
   ]
  },
  {
   "cell_type": "markdown",
   "metadata": {},
   "source": [
    "## Semi ColorWheel\n",
    "**Advantage**\n",
    "1. No color discontinuity for $v=\\left[x,y,z=0 \\pm \\varepsilon\\right]$\n",
    "\n",
    "**Inconvinent**\n",
    "\n",
    "2. The semi colorwheel has **non** unique relation between color and orientation.\n"
   ]
  },
  {
   "cell_type": "code",
   "execution_count": 14,
   "metadata": {},
   "outputs": [
    {
     "data": {
      "application/vnd.jupyter.widget-view+json": {
       "model_id": "ec48342777c34363b635ae4eb1361072",
       "version_major": 2,
       "version_minor": 0
      },
      "text/plain": [
       "Canvas(toolbar=Toolbar(toolitems=[('Home', 'Reset original view', 'home', 'home'), ('Back', 'Back to previous …"
      ]
     },
     "metadata": {},
     "output_type": "display_data"
    },
    {
     "name": "stderr",
     "output_type": "stream",
     "text": [
      "Clipping input data to the valid range for imshow with RGB data ([0..1] for floats or [0..255] for integers).\n"
     ]
    },
    {
     "data": {
      "text/plain": [
       "Text(0.5, 1.0, 'Colormap')"
      ]
     },
     "execution_count": 14,
     "metadata": {},
     "output_type": "execute_result"
    }
   ],
   "source": [
    "plt.figure(figsize=(8,8))\n",
    "data.plot(semi=True)\n",
    "data.micro.plotBoundary(dilatation=2)\n",
    "plt.title('Colormap')"
   ]
  },
  {
   "cell_type": "markdown",
   "metadata": {},
   "source": [
    "The associated full colorwheel :"
   ]
  },
  {
   "cell_type": "code",
   "execution_count": 15,
   "metadata": {},
   "outputs": [
    {
     "data": {
      "application/vnd.jupyter.widget-view+json": {
       "model_id": "05a3fddee5a04416b8666d563d4bc43c",
       "version_major": 2,
       "version_minor": 0
      },
      "text/plain": [
       "Canvas(toolbar=Toolbar(toolitems=[('Home', 'Reset original view', 'home', 'home'), ('Back', 'Back to previous …"
      ]
     },
     "metadata": {},
     "output_type": "display_data"
    },
    {
     "data": {
      "text/plain": [
       "Text(0.5, 1.0, 'LUT')"
      ]
     },
     "execution_count": 15,
     "metadata": {},
     "output_type": "execute_result"
    }
   ],
   "source": [
    "plt.figure(figsize=(2,2))\n",
    "plt.imshow(lda.aita.lut(semi=True))\n",
    "plt.axis('off')\n",
    "plt.title('LUT')"
   ]
  },
  {
   "cell_type": "markdown",
   "metadata": {},
   "source": [
    "# Pole figure\n",
    "There is various option to plot the pole figure here we focus on some of them but to see all of them refer to the documentation of plotpdf function.\n",
    "\n",
    "The color coding of the pole figure is obtain using a Kernel Density Estimation (KDE). This KDE has to be manipulating carrefully. If you want to have a basic idea of what is a KDE you can look at https://mathisonian.github.io/kde/.\n",
    "\n",
    "## Representation\n",
    "### Pole figure all sample\n",
    "Here some of the option are shown as contour plot, and with or without circle for specific angle.\n",
    "\n",
    "Be aware that to reduce the computation time we only used by default 10000 orientations selected randomly. You can modify this using 'nbp' value. If you set nbp to 0 it use all the data."
   ]
  },
  {
   "cell_type": "code",
   "execution_count": 16,
   "metadata": {},
   "outputs": [
    {
     "data": {
      "application/vnd.jupyter.widget-view+json": {
       "model_id": "1746fc01ce71431f8b11e571768cdeb2",
       "version_major": 2,
       "version_minor": 0
      },
      "text/plain": [
       "Canvas(toolbar=Toolbar(toolitems=[('Home', 'Reset original view', 'home', 'home'), ('Back', 'Back to previous …"
      ]
     },
     "metadata": {},
     "output_type": "display_data"
    },
    {
     "name": "stderr",
     "output_type": "stream",
     "text": [
      "/home/chauvet/Documents/GitToolboxs/aita/AITAToolbox/aita.py:515: RuntimeWarning: invalid value encountered in remainder\n",
      "  azi=np.mod(self.phi1.field.flatten()-math.pi/2,2*math.pi)\n",
      "/home/chauvet/Documents/GitToolboxs/aita/AITAToolbox/aita.py:515: RuntimeWarning: invalid value encountered in remainder\n",
      "  azi=np.mod(self.phi1.field.flatten()-math.pi/2,2*math.pi)\n",
      "/home/chauvet/Documents/GitToolboxs/aita/AITAToolbox/aita.py:515: RuntimeWarning: invalid value encountered in remainder\n",
      "  azi=np.mod(self.phi1.field.flatten()-math.pi/2,2*math.pi)\n",
      "/home/chauvet/Documents/GitToolboxs/aita/AITAToolbox/aita.py:515: RuntimeWarning: invalid value encountered in remainder\n",
      "  azi=np.mod(self.phi1.field.flatten()-math.pi/2,2*math.pi)\n"
     ]
    },
    {
     "data": {
      "text/plain": [
       "array([0.36842623, 0.3406706 , 0.2909032 ], dtype=float32)"
      ]
     },
     "execution_count": 16,
     "metadata": {},
     "output_type": "execute_result"
    }
   ],
   "source": [
    "plt.figure(figsize=(7,7),dpi=160)\n",
    "plt.subplot(2,2,1)\n",
    "data.plotpdf(contourf=True,angle=0,cm2=cm.gray)\n",
    "plt.subplot(2,2,2)\n",
    "data.plotpdf(contourf=True)\n",
    "plt.subplot(2,2,3)\n",
    "data.plotpdf(angle=0)\n",
    "plt.subplot(2,2,4)\n",
    "data.plotpdf()"
   ]
  },
  {
   "cell_type": "markdown",
   "metadata": {},
   "source": [
    "## Kernel Density Estimation\n",
    "If you want to have an idea of a basic KDE in one dimention refer to https://mathisonian.github.io/kde/\n",
    "\n",
    "Here there is some specificities du to the fact that we are computing KDE on a sphere. To do so we are using sklearn.neighbors.KernelDensity (https://scikit-learn.org/stable/modules/generated/sklearn.neighbors.KernelDensity.html). \n",
    "\n",
    "The 'metric' is set to 'haversine' for spherical computation (for exemple see https://scikit-learn.org/stable/auto_examples/neighbors/plot_species_kde.html#sphx-glr-auto-examples-neighbors-plot-species-kde-py)\n",
    "\n",
    "We are using a gaussian kernel.\n",
    "\n",
    "**Warning :** The 'bandwidth' parameter is crutial parameter to set. It can have a strong influence on your pole figure and you interpretation. You should set it up carefully and be critic on your pole figure. Here we show different pole figure for different bandwidth value using the same data as input."
   ]
  },
  {
   "cell_type": "code",
   "execution_count": 17,
   "metadata": {},
   "outputs": [
    {
     "data": {
      "application/vnd.jupyter.widget-view+json": {
       "model_id": "a2afa29e757f48d6b90e06293f45afa5",
       "version_major": 2,
       "version_minor": 0
      },
      "text/plain": [
       "Canvas(toolbar=Toolbar(toolitems=[('Home', 'Reset original view', 'home', 'home'), ('Back', 'Back to previous …"
      ]
     },
     "metadata": {},
     "output_type": "display_data"
    },
    {
     "name": "stderr",
     "output_type": "stream",
     "text": [
      "/home/chauvet/Documents/GitToolboxs/aita/AITAToolbox/aita.py:515: RuntimeWarning: invalid value encountered in remainder\n",
      "  azi=np.mod(self.phi1.field.flatten()-math.pi/2,2*math.pi)\n",
      "/home/chauvet/Documents/GitToolboxs/aita/AITAToolbox/aita.py:515: RuntimeWarning: invalid value encountered in remainder\n",
      "  azi=np.mod(self.phi1.field.flatten()-math.pi/2,2*math.pi)\n",
      "/home/chauvet/Documents/GitToolboxs/aita/AITAToolbox/aita.py:515: RuntimeWarning: invalid value encountered in remainder\n",
      "  azi=np.mod(self.phi1.field.flatten()-math.pi/2,2*math.pi)\n",
      "/home/chauvet/Documents/GitToolboxs/aita/AITAToolbox/aita.py:515: RuntimeWarning: invalid value encountered in remainder\n",
      "  azi=np.mod(self.phi1.field.flatten()-math.pi/2,2*math.pi)\n"
     ]
    },
    {
     "data": {
      "text/plain": [
       "Text(0.5, 1.0, 'bw=2')"
      ]
     },
     "execution_count": 17,
     "metadata": {},
     "output_type": "execute_result"
    }
   ],
   "source": [
    "plt.figure(figsize=(7,7),dpi=160)\n",
    "plt.subplot(2,2,1)\n",
    "data.plotpdf(contourf=True,angle=0,bw=0.05)\n",
    "plt.title('bw=0.05')\n",
    "plt.subplot(2,2,2)\n",
    "data.plotpdf(contourf=True,angle=0,bw=0.1)\n",
    "plt.title('bw=0.1')\n",
    "plt.subplot(2,2,3)\n",
    "data.plotpdf(contourf=True,angle=0,bw=0.3)\n",
    "plt.title('bw=0.3')\n",
    "plt.subplot(2,2,4)\n",
    "data.plotpdf(contourf=True,angle=0,bw=2.0)\n",
    "plt.title('bw=2')"
   ]
  },
  {
   "cell_type": "markdown",
   "metadata": {},
   "source": [
    "# Misorientation profile"
   ]
  },
  {
   "cell_type": "code",
   "execution_count": 18,
   "metadata": {},
   "outputs": [
    {
     "data": {
      "application/vnd.jupyter.widget-view+json": {
       "model_id": "161b51c43929472c90181aa0a6a10b34",
       "version_major": 2,
       "version_minor": 0
      },
      "text/plain": [
       "Canvas(toolbar=Toolbar(toolitems=[('Home', 'Reset original view', 'home', 'home'), ('Back', 'Back to previous …"
      ]
     },
     "metadata": {},
     "output_type": "display_data"
    },
    {
     "data": {
      "application/vnd.jupyter.widget-view+json": {
       "model_id": "dc54ee6d8f454c38a046d8cadcde66cd",
       "version_major": 2,
       "version_minor": 0
      },
      "text/plain": [
       "Button(description='Show line', style=ButtonStyle())"
      ]
     },
     "metadata": {},
     "output_type": "display_data"
    },
    {
     "data": {
      "application/vnd.jupyter.widget-view+json": {
       "model_id": "e3ebe01855fe4181bd7ee2966681767e",
       "version_major": 2,
       "version_minor": 0
      },
      "text/plain": [
       "Button(description='Extract profile', style=ButtonStyle())"
      ]
     },
     "metadata": {},
     "output_type": "display_data"
    }
   ],
   "source": [
    "res=data.interactive_misorientation_profile()"
   ]
  },
  {
   "cell_type": "code",
   "execution_count": 20,
   "metadata": {},
   "outputs": [
    {
     "data": {
      "application/vnd.jupyter.widget-view+json": {
       "model_id": "34e6f65165424326b0dfa6d75be1a975",
       "version_major": 2,
       "version_minor": 0
      },
      "text/plain": [
       "Canvas(toolbar=Toolbar(toolitems=[('Home', 'Reset original view', 'home', 'home'), ('Back', 'Back to previous …"
      ]
     },
     "metadata": {},
     "output_type": "display_data"
    },
    {
     "data": {
      "text/plain": [
       "Text(0, 0.5, 'Angle')"
      ]
     },
     "execution_count": 20,
     "metadata": {},
     "output_type": "execute_result"
    }
   ],
   "source": [
    "plt.figure()\n",
    "plt.plot(res.x,res.mis2o,'b-',label='mis2o')\n",
    "plt.plot(res.x,res.mis2p,'k-',label='mis2p')\n",
    "plt.grid()\n",
    "plt.legend()\n",
    "plt.xlabel('Distance')\n",
    "plt.ylabel('Angle')"
   ]
  },
  {
   "cell_type": "markdown",
   "metadata": {},
   "source": [
    "# Grelon function\n",
    "The grelon function compute the angle between the c-axis at each pixel and the unit radial vector from the center. The center is given by the user.\n",
    "\n",
    "Using the interactive_grelon function you can click as many time as you want. When you push export, it will compute the angle using the last click (input)"
   ]
  },
  {
   "cell_type": "code",
   "execution_count": 21,
   "metadata": {},
   "outputs": [
    {
     "data": {
      "application/vnd.jupyter.widget-view+json": {
       "model_id": "0eed6e2d340140cc9da0127f3f36c47a",
       "version_major": 2,
       "version_minor": 0
      },
      "text/plain": [
       "Canvas(toolbar=Toolbar(toolitems=[('Home', 'Reset original view', 'home', 'home'), ('Back', 'Back to previous …"
      ]
     },
     "metadata": {},
     "output_type": "display_data"
    },
    {
     "data": {
      "application/vnd.jupyter.widget-view+json": {
       "model_id": "2ff4d347d39a4760a0a695b083ed1bea",
       "version_major": 2,
       "version_minor": 0
      },
      "text/plain": [
       "Button(description='Export', style=ButtonStyle())"
      ]
     },
     "metadata": {},
     "output_type": "display_data"
    }
   ],
   "source": [
    "grelon=data.interactive_grelon()"
   ]
  },
  {
   "cell_type": "code",
   "execution_count": 22,
   "metadata": {},
   "outputs": [
    {
     "data": {
      "application/vnd.jupyter.widget-view+json": {
       "model_id": "9a881a4f29ae4927a20e42421838c3ca",
       "version_major": 2,
       "version_minor": 0
      },
      "text/plain": [
       "Canvas(toolbar=Toolbar(toolitems=[('Home', 'Reset original view', 'home', 'home'), ('Back', 'Back to previous …"
      ]
     },
     "metadata": {},
     "output_type": "display_data"
    },
    {
     "data": {
      "text/plain": [
       "[<matplotlib.lines.Line2D at 0x7f38b0ac04f0>]"
      ]
     },
     "execution_count": 22,
     "metadata": {},
     "output_type": "execute_result"
    }
   ],
   "source": [
    "#You can plot the angle map in degree using.\n",
    "plt.figure()\n",
    "grelon.map.plot()\n",
    "#You can find the center use for the computation\n",
    "plt.plot(grelon.center[0],grelon.center[1],'ks')"
   ]
  },
  {
   "cell_type": "markdown",
   "metadata": {},
   "source": [
    "# Misorientation function"
   ]
  },
  {
   "cell_type": "code",
   "execution_count": 26,
   "metadata": {},
   "outputs": [],
   "source": [
    "angle=out.crop_data.misorientation(filter_angle=5*math.pi/180)\n",
    "random_angle=out.crop_data.misorientation(filter_angle=5*math.pi/180,random=True)"
   ]
  },
  {
   "cell_type": "code",
   "execution_count": 27,
   "metadata": {},
   "outputs": [],
   "source": [
    "kernel_a = scipy.stats.gaussian_kde(angle)\n",
    "xeval_a=np.linspace(0,math.pi/2,180)\n",
    "yeval_a=kernel_a(xeval_a)\n",
    "\n",
    "kernel_ra = scipy.stats.gaussian_kde(random_angle)\n",
    "xeval_ra=np.linspace(0,math.pi/2,180)\n",
    "yeval_ra=kernel_ra(xeval_ra)"
   ]
  },
  {
   "cell_type": "code",
   "execution_count": 28,
   "metadata": {},
   "outputs": [
    {
     "data": {
      "application/vnd.jupyter.widget-view+json": {
       "model_id": "94f851923f57471e81f3d9229bb1b243",
       "version_major": 2,
       "version_minor": 0
      },
      "text/plain": [
       "Canvas(toolbar=Toolbar(toolitems=[('Home', 'Reset original view', 'home', 'home'), ('Back', 'Back to previous …"
      ]
     },
     "metadata": {},
     "output_type": "display_data"
    },
    {
     "data": {
      "text/plain": [
       "[<matplotlib.lines.Line2D at 0x7f38b09cebe0>]"
      ]
     },
     "execution_count": 28,
     "metadata": {},
     "output_type": "execute_result"
    }
   ],
   "source": [
    "plt.figure()\n",
    "plt.plot(xeval_a,yeval_a)\n",
    "plt.plot(xeval_ra,yeval_ra)"
   ]
  },
  {
   "cell_type": "code",
   "execution_count": 30,
   "metadata": {},
   "outputs": [
    {
     "data": {
      "text/plain": [
       "(875535,)"
      ]
     },
     "execution_count": 30,
     "metadata": {},
     "output_type": "execute_result"
    }
   ],
   "source": [
    "angle.shape"
   ]
  },
  {
   "cell_type": "code",
   "execution_count": null,
   "metadata": {},
   "outputs": [],
   "source": []
  }
 ],
 "metadata": {
  "kernelspec": {
   "display_name": "basepy38",
   "language": "python",
   "name": "basepy38"
  },
  "language_info": {
   "codemirror_mode": {
    "name": "ipython",
    "version": 3
   },
   "file_extension": ".py",
   "mimetype": "text/x-python",
   "name": "python",
   "nbconvert_exporter": "python",
   "pygments_lexer": "ipython3",
   "version": "3.8.8"
  }
 },
 "nbformat": 4,
 "nbformat_minor": 4
}
